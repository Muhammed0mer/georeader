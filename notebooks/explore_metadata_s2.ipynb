{
 "cells": [
  {
   "cell_type": "code",
   "execution_count": 1,
   "id": "59deb989-f227-41b7-abd0-8d446dd069cf",
   "metadata": {},
   "outputs": [],
   "source": [
    "import os\n",
    "os.environ[\"GOOGLE_APPLICATION_CREDENTIALS\"] = \"/home/gonzalo/Downloads/ml4cc-general-access_request_pays.json\"\n",
    "os.environ[\"GS_USER_PROJECT\"] = \"ml4cc-general\""
   ]
  },
  {
   "cell_type": "code",
   "execution_count": 2,
   "id": "1f262762-112c-49a0-914f-e398d907cae2",
   "metadata": {},
   "outputs": [
    {
     "name": "stdout",
     "output_type": "stream",
     "text": [
      "File is located at: gs://gcp-public-data-sentinel-2/tiles/49/S/GV/S2B_MSIL1C_20220527T030539_N0400_R075_T49SGV_20220527T051042.SAFE\n",
      "CPU times: user 777 ms, sys: 398 ms, total: 1.17 s\n",
      "Wall time: 951 ms\n"
     ]
    },
    {
     "data": {
      "text/plain": [
       " \n",
       "         Transform: | 10.00, 0.00, 699960.00|\n",
       "| 0.00,-10.00, 4000020.00|\n",
       "| 0.00, 0.00, 1.00|\n",
       "         Shape: (13, 10980, 10980)\n",
       "         Resolution: (10.0, 10.0)\n",
       "         Bounds: (699960.0, 3890220.0, 809760.0, 4000020.0)\n",
       "         CRS: EPSG:32649\n",
       "         bands: ['B01', 'B02', 'B03', 'B04', 'B05', 'B06', 'B07', 'B08', 'B8A', 'B09', 'B10', 'B11', 'B12']\n",
       "         fill_value_default: 0\n",
       "        "
      ]
     },
     "execution_count": 2,
     "metadata": {},
     "output_type": "execute_result"
    }
   ],
   "source": [
    "%%time\n",
    "from georeader.readers import S2_SAFE_reader\n",
    "\n",
    "safe_file = \"S2B_MSIL1C_20220527T030539_N0400_R075_T49SGV_20220527T051042.SAFE\"\n",
    "s2_safe_folder = S2_SAFE_reader.s2_public_bucket_path(safe_file, check_exists=True)\n",
    "\n",
    "print(f\"File is located at: {s2_safe_folder}\")\n",
    "\n",
    "s2obj = S2_SAFE_reader.s2loader(s2_safe_folder, out_res=10)\n",
    "s2obj"
   ]
  },
  {
   "cell_type": "markdown",
   "id": "c9268b72-30a5-4ea1-8039-338a1e682ffb",
   "metadata": {
    "jp-MarkdownHeadingCollapsed": true,
    "tags": []
   },
   "source": [
    "## Metadata files in Level 1C images\n",
    "\n",
    "There are two metadata files (that I know) in Sentinel-2 Level 1C images, these are saved in the attributes\n",
    " * `s2obj.metadata_msi` \n",
    " * `s2obj.metadata_tl`"
   ]
  },
  {
   "cell_type": "code",
   "execution_count": 3,
   "id": "96b80213-955c-4ab9-a6a0-bec11c2d1cbe",
   "metadata": {},
   "outputs": [
    {
     "data": {
      "text/plain": [
       "'gs://gcp-public-data-sentinel-2/tiles/49/S/GV/S2B_MSIL1C_20220527T030539_N0400_R075_T49SGV_20220527T051042.SAFE/MTD_MSIL1C.xml'"
      ]
     },
     "execution_count": 3,
     "metadata": {},
     "output_type": "execute_result"
    }
   ],
   "source": [
    "s2obj.metadata_msi"
   ]
  },
  {
   "cell_type": "code",
   "execution_count": 7,
   "id": "1041a8f5-1454-48a7-a710-0a0a65f183c7",
   "metadata": {},
   "outputs": [
    {
     "data": {
      "text/plain": [
       "'gs://gcp-public-data-sentinel-2/tiles/49/S/GV/S2B_MSIL1C_20220527T030539_N0400_R075_T49SGV_20220527T051042.SAFE/GRANULE/L1C_T49SGV_A027271_20220527T031740/MTD_TL.xml'"
      ]
     },
     "execution_count": 7,
     "metadata": {},
     "output_type": "execute_result"
    }
   ],
   "source": [
    "s2obj.metadata_tl"
   ]
  },
  {
   "cell_type": "markdown",
   "id": "a101dd1c-b31b-43ca-abe2-6921dfed6a88",
   "metadata": {},
   "source": [
    "### Reflectance to radiance conversion\n",
    "\n",
    "We want the pixels of our images in [**spectral radiances**](https://en.wikipedia.org/wiki/Radiance) with units $W·sr^{-1}·m^{−2}·nm^{−1}$. Spectral raciances are (*watts per steradian per square meter per nanometer*).\n",
    "\n",
    "According to this https://gis.stackexchange.com/questions/285996/convert-sentinel-2-1c-product-from-reflectance-to-radiance the formula to convert digital numbers (DN) in ToA images is:\n",
    "\n",
    "toaBandX = (pixelValueBandX + radioAddOffsetBandX ) / 10000\n",
    "\n",
    "radianceBandX = ((toaBandX * cos(incidenceAngle) * solarIrradianceBandX) / (pi * d2))\n",
    "\n",
    "where d2 is the earth-sun distance correction. d2 is 1.0/U\n",
    "\n",
    "The values for incidenceAngle, solarIrradianceBandX and U can be found in the 2 metadata files included in the download.\n",
    "\n",
    "* In `metadata_msi` we can find the `solarIrradianceBandX`, the `radioAddOffsetBandX` and `U`. See xml content bellow!\n",
    "* In `metadata_tl` we can find the `incidenceAngle` (which I assume is the solar zenith angle). \n",
    "\n",
    "If $J$ is the Julian day of the day of acquisition (day of the year), d2 can be computed as:\n",
    "\n",
    "d2 = (1-e* cos(0.9856 * (J-4) * pi/180))^2\n",
    "\n",
    "Where e=0.01673 is the Earth's orbit eccentricity"
   ]
  },
  {
   "cell_type": "code",
   "execution_count": 6,
   "id": "213a0135-c807-466a-b255-7f6487511cb6",
   "metadata": {},
   "outputs": [
    {
     "name": "stdout",
     "output_type": "stream",
     "text": [
      "ServiceException: 401 Requester pays bucket access requires authentication.\n"
     ]
    }
   ],
   "source": [
    "# This works in the terminal but not in the notebook :/\n",
    "!gsutil -u cs-starcop-dtacs cat gs://gcp-public-data-sentinel-2/tiles/49/S/GV/S2B_MSIL1C_20220527T030539_N0400_R075_T49SGV_20220527T051042.SAFE/MTD_MSIL1C.xml"
   ]
  },
  {
   "cell_type": "markdown",
   "id": "575bee8d-2c8d-4754-9518-bdff1a0e028b",
   "metadata": {},
   "source": [
    "Solar irradiance values, U and radio offsets are in the `s2obj.metadata_msi` file. \n",
    "\n",
    "\n",
    "```\n",
    "[...]\n",
    "           <QUANTIFICATION_VALUE unit=\"none\">10000</QUANTIFICATION_VALUE>\n",
    "           <Radiometric_Offset_List>\n",
    "        <RADIO_ADD_OFFSET band_id=\"0\">-1000</RADIO_ADD_OFFSET>\n",
    "        <RADIO_ADD_OFFSET band_id=\"1\">-1000</RADIO_ADD_OFFSET>\n",
    "        <RADIO_ADD_OFFSET band_id=\"2\">-1000</RADIO_ADD_OFFSET>\n",
    "        <RADIO_ADD_OFFSET band_id=\"3\">-1000</RADIO_ADD_OFFSET>\n",
    "        <RADIO_ADD_OFFSET band_id=\"4\">-1000</RADIO_ADD_OFFSET>\n",
    "        <RADIO_ADD_OFFSET band_id=\"5\">-1000</RADIO_ADD_OFFSET>\n",
    "        <RADIO_ADD_OFFSET band_id=\"6\">-1000</RADIO_ADD_OFFSET>\n",
    "        <RADIO_ADD_OFFSET band_id=\"7\">-1000</RADIO_ADD_OFFSET>\n",
    "        <RADIO_ADD_OFFSET band_id=\"8\">-1000</RADIO_ADD_OFFSET>\n",
    "        <RADIO_ADD_OFFSET band_id=\"9\">-1000</RADIO_ADD_OFFSET>\n",
    "        <RADIO_ADD_OFFSET band_id=\"10\">-1000</RADIO_ADD_OFFSET>\n",
    "        <RADIO_ADD_OFFSET band_id=\"11\">-1000</RADIO_ADD_OFFSET>\n",
    "        <RADIO_ADD_OFFSET band_id=\"12\">-1000</RADIO_ADD_OFFSET>\n",
    "      </Radiometric_Offset_List>\n",
    "            <Reflectance_Conversion>\n",
    "        <U>0.975631110815927</U>\n",
    "        <Solar_Irradiance_List>\n",
    "          <SOLAR_IRRADIANCE bandId=\"0\" unit=\"W/m²/µm\">1874.3</SOLAR_IRRADIANCE>\n",
    "          <SOLAR_IRRADIANCE bandId=\"1\" unit=\"W/m²/µm\">1959.75</SOLAR_IRRADIANCE>\n",
    "          <SOLAR_IRRADIANCE bandId=\"2\" unit=\"W/m²/µm\">1824.93</SOLAR_IRRADIANCE>\n",
    "          <SOLAR_IRRADIANCE bandId=\"3\" unit=\"W/m²/µm\">1512.79</SOLAR_IRRADIANCE>\n",
    "          <SOLAR_IRRADIANCE bandId=\"4\" unit=\"W/m²/µm\">1425.78</SOLAR_IRRADIANCE>\n",
    "          <SOLAR_IRRADIANCE bandId=\"5\" unit=\"W/m²/µm\">1291.13</SOLAR_IRRADIANCE>\n",
    "          <SOLAR_IRRADIANCE bandId=\"6\" unit=\"W/m²/µm\">1175.57</SOLAR_IRRADIANCE>\n",
    "          <SOLAR_IRRADIANCE bandId=\"7\" unit=\"W/m²/µm\">1041.28</SOLAR_IRRADIANCE>\n",
    "          <SOLAR_IRRADIANCE bandId=\"8\" unit=\"W/m²/µm\">953.93</SOLAR_IRRADIANCE>\n",
    "          <SOLAR_IRRADIANCE bandId=\"9\" unit=\"W/m²/µm\">817.58</SOLAR_IRRADIANCE>\n",
    "          <SOLAR_IRRADIANCE bandId=\"10\" unit=\"W/m²/µm\">365.41</SOLAR_IRRADIANCE>\n",
    "          <SOLAR_IRRADIANCE bandId=\"11\" unit=\"W/m²/µm\">247.08</SOLAR_IRRADIANCE>\n",
    "          <SOLAR_IRRADIANCE bandId=\"12\" unit=\"W/m²/µm\">87.75</SOLAR_IRRADIANCE>\n",
    "        </Solar_Irradiance_List>\n",
    "</Reflectance_Conversion>\n",
    "[...]\n",
    "```"
   ]
  },
  {
   "cell_type": "markdown",
   "id": "aa1e64c7-7838-465c-9328-eafcc0dd0946",
   "metadata": {},
   "source": [
    "In that file there's also the spectral response of each of the bands:\n",
    "\n",
    "```\n",
    "[...]\n",
    "            <Spectral_Information_List>\n",
    "        <Spectral_Information bandId=\"0\" physicalBand=\"B1\">\n",
    "          <RESOLUTION>60</RESOLUTION>\n",
    "          <Wavelength>\n",
    "            <MIN unit=\"nm\">411</MIN>\n",
    "            <MAX unit=\"nm\">456</MAX>\n",
    "            <CENTRAL unit=\"nm\">442.3</CENTRAL>\n",
    "          </Wavelength>\n",
    "          <Spectral_Response>\n",
    "            <STEP unit=\"nm\">1</STEP>\n",
    "            <VALUES>0.0062411 0.01024045 0.00402983 0.00642179 0.00552753 0.0065525 0.00409887 0.006297 0.00436742 0.00233356 0.00058162 0.00202276 0.00294328 0.00485362 0.00317041 0.00237657 0.00234612 0.00440152 0.01292397 0.05001678 0.18650104 0.45441623 0.72307877 0.83999211 0.86456334 0.87472096 0.89215296 0.91090814 0.92588017 0.93924094 0.94491826 0.95078529 0.96803023 0.99939195 1 0.97548364 0.96148351 0.94986211 0.91841452 0.87989802 0.80383677 0.59752075 0.30474132 0.10798014 0.0304465 0.00885119</VALUES>\n",
    "          </Spectral_Response>\n",
    "        </Spectral_Information>\n",
    "        <Spectral_Information bandId=\"1\" physicalBand=\"B2\">\n",
    "        \n",
    "[...]\n",
    "```"
   ]
  },
  {
   "cell_type": "code",
   "execution_count": null,
   "id": "152a71a1-da77-4796-9cdf-ef483fdbb9c8",
   "metadata": {},
   "outputs": [],
   "source": []
  }
 ],
 "metadata": {
  "kernelspec": {
   "display_name": "Python [conda env:starcop]",
   "language": "python",
   "name": "conda-env-starcop-py"
  },
  "language_info": {
   "codemirror_mode": {
    "name": "ipython",
    "version": 3
   },
   "file_extension": ".py",
   "mimetype": "text/x-python",
   "name": "python",
   "nbconvert_exporter": "python",
   "pygments_lexer": "ipython3",
   "version": "3.10.4"
  }
 },
 "nbformat": 4,
 "nbformat_minor": 5
}
