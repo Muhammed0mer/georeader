{
 "cells": [
  {
   "cell_type": "code",
   "execution_count": 1,
   "id": "74f5b555-9a4b-4225-b2d2-eeb88a046140",
   "metadata": {},
   "outputs": [
    {
     "data": {
      "text/plain": [
       "'https://earthengine.googleapis.com/v1alpha/projects/earthengine-legacy/thumbnails/ea7146b7f5c19ac8bffcdd3f55b7a51a-f3ea35f9bce59fc7a631a12884e380fd:getPixels'"
      ]
     },
     "execution_count": 1,
     "metadata": {},
     "output_type": "execute_result"
    }
   ],
   "source": [
    "import ee\n",
    "\n",
    "# Example from https://developers.google.com/earth-engine/apidocs/ee-image-getdownloadurl\n",
    "\n",
    "# Limited to 32MB images\n",
    "ee.Initialize()\n",
    "\n",
    "img = ee.Image('COPERNICUS/S2_SR/20210109T185751_20210109T185931_T10SEG')\n",
    "#  A small region within the image.\n",
    "region = ee.Geometry.BBox(-122.0859, 37.0436, -122.0626, 37.0586)\n",
    "name = \"multi_band\"\n",
    "download_url = img.getDownloadURL(params={\n",
    "    \"name\":name,\n",
    "    \"bands\":['B3', 'B8', 'B11'],\n",
    "    \"region\":region,\n",
    "    \"scale\":20,\n",
    "    \"filePerBand\":False})\n",
    "\n",
    "download_url"
   ]
  },
  {
   "cell_type": "code",
   "execution_count": 2,
   "id": "0814badc-a937-4670-af00-ad2d3f063912",
   "metadata": {},
   "outputs": [],
   "source": [
    "import requests\n",
    "r = requests.get(download_url, stream=True)\n",
    "filenamezip = f'/home/gonzalo/Downloads/{name}.zip'\n",
    "with open(filenamezip, \"wb\") as fd:\n",
    "        for chunk in r.iter_content(chunk_size=1024):\n",
    "            fd.write(chunk)\n"
   ]
  },
  {
   "cell_type": "code",
   "execution_count": 3,
   "id": "06b277ed-d7f1-4400-95b2-36bdbeba9de7",
   "metadata": {},
   "outputs": [
    {
     "data": {
      "text/plain": [
       "200"
      ]
     },
     "execution_count": 3,
     "metadata": {},
     "output_type": "execute_result"
    }
   ],
   "source": [
    "r.status_code"
   ]
  },
  {
   "cell_type": "code",
   "execution_count": 6,
   "id": "d6305cbf-3b77-4774-a0bb-352ece2c30bb",
   "metadata": {},
   "outputs": [
    {
     "data": {
      "text/plain": [
       " \n",
       "         Paths: ['zip+file:////home/gonzalo/Downloads/multi_band.zip!multi_band.tif']\n",
       "         Transform: | 20.00, 0.00, 581260.00|\n",
       "| 0.00,-20.00, 4101800.00|\n",
       "| 0.00, 0.00, 1.00|\n",
       "         Shape: (3, 86, 105)\n",
       "         Resolution: (20.0, 20.0)\n",
       "         Bounds: (581260.0, 4100080.0, 583360.0, 4101800.0)\n",
       "         CRS: EPSG:32610\n",
       "         nodata: 0.0\n",
       "         fill_value_default: 0.0\n",
       "        "
      ]
     },
     "execution_count": 6,
     "metadata": {},
     "output_type": "execute_result"
    }
   ],
   "source": [
    "from georeader.rasterio_reader import RasterioReader\n",
    "\n",
    "filename = f'zip+file:///{filenamezip}!{name}.tif'\n",
    "data = RasterioReader(filename)\n",
    "data"
   ]
  },
  {
   "cell_type": "code",
   "execution_count": 8,
   "id": "57b5e754-2f8d-4bc3-bf5f-44733059af14",
   "metadata": {},
   "outputs": [
    {
     "data": {
      "text/plain": [
       "[20.0, 0.0, 581260.0, 0.0, -20.0, 4101800.0, 0.0, 0.0, 1.0]"
      ]
     },
     "execution_count": 8,
     "metadata": {},
     "output_type": "execute_result"
    }
   ],
   "source": [
    "list(data.transform)"
   ]
  },
  {
   "cell_type": "code",
   "execution_count": 29,
   "id": "24bfc592-1007-4728-bb79-5cba6f7612d3",
   "metadata": {},
   "outputs": [
    {
     "data": {
      "text/plain": [
       "'https://earthengine.googleapis.com/v1alpha/projects/earthengine-legacy/thumbnails/cb5cf5082c1f4a325b68483180c21fdf-115cf8441124f95c330c908ee7534ddf:getPixels'"
      ]
     },
     "execution_count": 29,
     "metadata": {},
     "output_type": "execute_result"
    }
   ],
   "source": [
    "transform  = [20.0, 0.0, 581261.0, 0.0, -20.0, 4101804.0]\n",
    "dimensions = (100, 100)\n",
    "crs = \"EPSG:32610\"\n",
    "name = \"multi_band\"\n",
    "download_url = img.getDownloadURL(params={\n",
    "    \"name\":name,\n",
    "    \"bands\":['B3', 'B8', 'B11'],\n",
    "    \"crs_transform\": transform,\n",
    "    \"crs\": \"EPSG:32610\",\n",
    "    \"dimensions\": dimensions,\n",
    "    \"scale\":20,\n",
    "    \"filePerBand\":False})\n",
    "download_url"
   ]
  },
  {
   "cell_type": "code",
   "execution_count": 30,
   "id": "b61504b4-b4d1-4593-bec4-e011b18339d4",
   "metadata": {},
   "outputs": [],
   "source": [
    "import requests\n",
    "r = requests.get(download_url, stream=True)\n",
    "filenamezip = f'/home/gonzalo/Downloads/{name}.zip'\n",
    "with open(filenamezip, \"wb\") as fd:\n",
    "        for chunk in r.iter_content(chunk_size=1024):\n",
    "            fd.write(chunk)"
   ]
  },
  {
   "cell_type": "code",
   "execution_count": 31,
   "id": "c6abae06-fed8-4361-869a-edbc0506b60b",
   "metadata": {},
   "outputs": [
    {
     "data": {
      "text/plain": [
       "'/home/gonzalo/Downloads/multi_band.zip'"
      ]
     },
     "execution_count": 31,
     "metadata": {},
     "output_type": "execute_result"
    }
   ],
   "source": [
    "filenamezip"
   ]
  },
  {
   "cell_type": "code",
   "execution_count": 32,
   "id": "b2d89c5c-3412-4ced-97df-f000ab6eff2b",
   "metadata": {},
   "outputs": [
    {
     "data": {
      "text/plain": [
       " \n",
       "         Paths: ['zip+file:////home/gonzalo/Downloads/multi_band.zip!multi_band.tif']\n",
       "         Transform: | 20.00, 0.00, 581261.00|\n",
       "| 0.00,-20.00, 4101804.00|\n",
       "| 0.00, 0.00, 1.00|\n",
       "         Shape: (3, 100, 100)\n",
       "         Resolution: (20.0, 20.0)\n",
       "         Bounds: (581261.0, 4099804.0, 583261.0, 4101804.0)\n",
       "         CRS: EPSG:32610\n",
       "         nodata: 0.0\n",
       "         fill_value_default: 0.0\n",
       "        "
      ]
     },
     "execution_count": 32,
     "metadata": {},
     "output_type": "execute_result"
    }
   ],
   "source": [
    "filename = f'zip+file:///{filenamezip}!{name}.tif'\n",
    "data = RasterioReader(filename)\n",
    "data"
   ]
  },
  {
   "cell_type": "code",
   "execution_count": 26,
   "id": "97cd7b4e-e693-452e-8277-6572f5a266b8",
   "metadata": {},
   "outputs": [
    {
     "data": {
      "text/plain": [
       "'https://earthengine.googleapis.com/v1alpha/projects/earthengine-legacy/thumbnails/26a7bfa73fa42e62d3246417746e6c83-88016a0dda35791a8fc0d648dedadd21:getPixels'"
      ]
     },
     "execution_count": 26,
     "metadata": {},
     "output_type": "execute_result"
    }
   ],
   "source": [
    "transform  = [20.0, 0.0, 581260.0, 0.0, -20.0, 4101800.0]\n",
    "dimensions = (100, 100)\n",
    "crs = \"EPSG:32610\"\n",
    "name = \"single_band\"\n",
    "download_url = img.getDownloadURL(params={\n",
    "    \"name\":name,\n",
    "    \"bands\":['B3', 'B8', 'B11'],\n",
    "    \"crs_transform\": transform,\n",
    "    \"crs\": \"EPSG:32610\",\n",
    "    \"dimensions\": dimensions,\n",
    "    \"scale\":20,\n",
    "    \"filePerBand\":True})\n",
    "download_url"
   ]
  },
  {
   "cell_type": "code",
   "execution_count": 27,
   "id": "1722610a-0450-45f5-b33b-9eb960783208",
   "metadata": {},
   "outputs": [],
   "source": [
    "import requests\n",
    "r = requests.get(download_url, stream=True)\n",
    "filenamezip = f'/home/gonzalo/Downloads/{name}.zip'\n",
    "with open(filenamezip, \"wb\") as fd:\n",
    "        for chunk in r.iter_content(chunk_size=1024):\n",
    "            fd.write(chunk)"
   ]
  },
  {
   "cell_type": "code",
   "execution_count": 28,
   "id": "dc8c8af3-7373-447c-af67-aec5fb90aafe",
   "metadata": {},
   "outputs": [
    {
     "data": {
      "text/plain": [
       " \n",
       "         Paths: ['zip+file:////home/gonzalo/Downloads/single_band.zip!single_band.B3.tif']\n",
       "         Transform: | 20.00, 0.00, 581260.00|\n",
       "| 0.00,-20.00, 4101800.00|\n",
       "| 0.00, 0.00, 1.00|\n",
       "         Shape: (1, 100, 100)\n",
       "         Resolution: (20.0, 20.0)\n",
       "         Bounds: (581260.0, 4099800.0, 583260.0, 4101800.0)\n",
       "         CRS: EPSG:32610\n",
       "         nodata: 0.0\n",
       "         fill_value_default: 0.0\n",
       "        "
      ]
     },
     "execution_count": 28,
     "metadata": {},
     "output_type": "execute_result"
    }
   ],
   "source": [
    "filename_B3 = f'zip+file:///{filenamezip}!{name}.B3.tif'\n",
    "data_B3 = RasterioReader(filename_B3)\n",
    "data_B3"
   ]
  }
 ],
 "metadata": {
  "kernelspec": {
   "display_name": "Python [conda env:ml4floods]",
   "language": "python",
   "name": "conda-env-ml4floods-py"
  },
  "language_info": {
   "codemirror_mode": {
    "name": "ipython",
    "version": 3
   },
   "file_extension": ".py",
   "mimetype": "text/x-python",
   "name": "python",
   "nbconvert_exporter": "python",
   "pygments_lexer": "ipython3",
   "version": "3.9.10"
  }
 },
 "nbformat": 4,
 "nbformat_minor": 5
}
